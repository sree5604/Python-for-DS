{
  "nbformat": 4,
  "nbformat_minor": 0,
  "metadata": {
    "colab": {
      "provenance": []
    },
    "kernelspec": {
      "name": "python3",
      "display_name": "Python 3"
    },
    "language_info": {
      "name": "python"
    }
  },
  "cells": [
    {
      "cell_type": "code",
      "source": [
        "# pypi are the packages that are avilable in the python\n",
        "# turtle graphics is the standard library that is available in the python\n",
        "\n",
        " #STRING\n",
        "print(\"HELLO WORLD\")\n",
        "print(\"HELLO WORLD \\nHELLO WORLD \\nHELLO WORLD\")\n",
        "print('HELLO' +   \"sree\")\n",
        "print(\"hello\" +\" \"+\"sree\")\n",
        "#indentation error means a space left before the print statement or any other statement that is not necessary and spelling mistakes\n",
        "#ctrl+forward slash(/) makes the statement as comment"
      ],
      "metadata": {
        "colab": {
          "base_uri": "https://localhost:8080/"
        },
        "id": "XTkScKqTcGo9",
        "outputId": "a0b612b3-c2b2-4d36-ba09-3dfdad371684"
      },
      "execution_count": null,
      "outputs": [
        {
          "output_type": "stream",
          "name": "stdout",
          "text": [
            "HELLO WORLD\n",
            "HELLO WORLD \n",
            "HELLO WORLD \n",
            "HELLO WORLD\n",
            "HELLOsree\n",
            "hello sree\n"
          ]
        }
      ]
    },
    {
      "cell_type": "code",
      "source": [
        "#INPUT FUNCTION\n",
        "print(\"HELLO!\"+\" \"+input(\"what is your name? \"))"
      ],
      "metadata": {
        "colab": {
          "base_uri": "https://localhost:8080/"
        },
        "id": "rHpOYxz9msLz",
        "outputId": "6b4e8544-7f8a-4841-a5f9-75c669e6a982"
      },
      "execution_count": null,
      "outputs": [
        {
          "output_type": "stream",
          "name": "stdout",
          "text": [
            "what is your name? sree\n",
            "HELLO! sree\n"
          ]
        }
      ]
    },
    {
      "cell_type": "code",
      "source": [
        "#Variables\n",
        "name=input(\"what is your name?\")\n",
        "print(name)"
      ],
      "metadata": {
        "colab": {
          "base_uri": "https://localhost:8080/"
        },
        "id": "mf5sXm8OsG6C",
        "outputId": "85b400d3-d136-4acb-83fa-8798be119575"
      },
      "execution_count": null,
      "outputs": [
        {
          "output_type": "stream",
          "name": "stdout",
          "text": [
            "what is your name?sree\n",
            "sree\n"
          ]
        }
      ]
    },
    {
      "cell_type": "code",
      "source": [
        "#INDEX VALUE\n",
        "print(\"hello\"[0])\n",
        "# the way of printing a single letter from a word is called as SUBSCRIPT\n",
        "print(\"hello\"[4])\n",
        "\n",
        "\n",
        "#WHEN THE VALUES ARE CONCATINATED AFTER PRINTING THEN IT IS STRING TYPE\n",
        "#WHEN THE VALUES GET ADDED AFTER PRINTING THEN IT IS A INTEGER TYPE\n",
        "#CONCADINATION\n",
        "print(\"123\"+\"456\")\n",
        "#ADDITION\n",
        "print(123+456)\n",
        "\n",
        "#BOOLEAN CAN BE TRUE OR FALSE"
      ],
      "metadata": {
        "colab": {
          "base_uri": "https://localhost:8080/"
        },
        "id": "MKvLEgBuL0H8",
        "outputId": "b2826284-b97c-4420-fc68-3c95657bbd57"
      },
      "execution_count": null,
      "outputs": [
        {
          "output_type": "stream",
          "name": "stdout",
          "text": [
            "h\n",
            "o\n",
            "123456\n",
            "579\n"
          ]
        }
      ]
    },
    {
      "cell_type": "code",
      "source": [
        "#YOU CANT CONCADINATE A STRING AND AN INTEGER IT ENDS UP WITH A TYPE ERROR\n",
        "num_char=len(input(\"what is your name?\"))\n",
        "print(\"your name has\"+num_char+\"character\")\n",
        "#THIS CODE SHOWS ERROR"
      ],
      "metadata": {
        "id": "gMCF9NwEP4DW"
      },
      "execution_count": null,
      "outputs": []
    },
    {
      "cell_type": "code",
      "source": [
        "#STRING AND INTEGER CAN BE CONCATINATED BY CHANGING THE INT TO STR\n",
        "num_char=len(input(\"what is your name?\"))\n",
        "new_num_char=str(num_char)#this code changes int to str to prevent from error\n",
        "print(\"your name has\"+\" \"+new_num_char+\" \"+\"character\")\n",
        "\n"
      ],
      "metadata": {
        "colab": {
          "base_uri": "https://localhost:8080/"
        },
        "id": "18RbLPIWRXsl",
        "outputId": "5d7c4555-4252-48e5-9cab-3d759d98f3d3"
      },
      "execution_count": null,
      "outputs": [
        {
          "output_type": "stream",
          "name": "stdout",
          "text": [
            "what is your name?sree\n",
            "your name has 4 character\n"
          ]
        }
      ]
    },
    {
      "cell_type": "code",
      "source": [
        "a=input(\"what is your age?\")\n",
        "type(a)\n",
        "#WHEN THE INPUT VALUE IS ASKED WITH A STRING THEN THE RESULTANT TYPE OF THE INPUT IS ALSO STRING"
      ],
      "metadata": {
        "colab": {
          "base_uri": "https://localhost:8080/"
        },
        "id": "f_c64GyIcOMf",
        "outputId": "0c55094a-798d-4288-beb3-e47603a634d5"
      },
      "execution_count": null,
      "outputs": [
        {
          "name": "stdout",
          "output_type": "stream",
          "text": [
            "what is your age?7\n"
          ]
        },
        {
          "output_type": "execute_result",
          "data": {
            "text/plain": [
              "str"
            ]
          },
          "metadata": {},
          "execution_count": 7
        }
      ]
    },
    {
      "cell_type": "code",
      "source": [
        "#ROUNDING OF THE DIGITS\n",
        "print(8/3)\n",
        "print(round(8/3))\n",
        "print(round(8/3 ,2))#round tp the decimal place mentiones after comma\n",
        "\n",
        "#TO CHANGE THE OUTPUT FROM A FLOAT TO INTEGER USING //\n",
        "print(8//3)"
      ],
      "metadata": {
        "colab": {
          "base_uri": "https://localhost:8080/"
        },
        "id": "AnTutkUbdg1N",
        "outputId": "60a34cd4-9043-4470-97c5-3b93758409da"
      },
      "execution_count": null,
      "outputs": [
        {
          "output_type": "stream",
          "name": "stdout",
          "text": [
            "2.6666666666666665\n",
            "3\n",
            "2.67\n",
            "2\n"
          ]
        }
      ]
    },
    {
      "cell_type": "code",
      "source": [
        "#f-STRING\n",
        "#WE CAN'T PRINT A STRING WITH AN INTEGER SO WE CAN USE f-STRING INSTEAD OF CHANGING IT TO AN INTEGER TYPE\n",
        "score=0\n",
        "height=1.78\n",
        "winningIs=True\n",
        "f\"your score in the game is {score}, your height is{height}, your winning is{winningIs}\""
      ],
      "metadata": {
        "colab": {
          "base_uri": "https://localhost:8080/",
          "height": 36
        },
        "id": "yia3LdKxjhsB",
        "outputId": "7f944a65-ce38-4461-e7e8-8174e3c7f5c6"
      },
      "execution_count": null,
      "outputs": [
        {
          "output_type": "execute_result",
          "data": {
            "text/plain": [
              "'your score in the game is 0, your height is1.78, your winning isTrue'"
            ],
            "application/vnd.google.colaboratory.intrinsic+json": {
              "type": "string"
            }
          },
          "metadata": {},
          "execution_count": 13
        }
      ]
    },
    {
      "cell_type": "code",
      "source": [
        "# TO CONVERT A STRING INTO LOWER CASE\n",
        "\"SREE\".lower()\n",
        "# TO COUNT THE OCCURENCE OF A LETTER IN STRING\n",
        "\"sree\".count(\"e\")"
      ],
      "metadata": {
        "colab": {
          "base_uri": "https://localhost:8080/"
        },
        "id": "Ox1HlJrw_4fa",
        "outputId": "24935698-1845-4b89-a5c8-e86f7e764ffb"
      },
      "execution_count": null,
      "outputs": [
        {
          "output_type": "execute_result",
          "data": {
            "text/plain": [
              "2"
            ]
          },
          "metadata": {},
          "execution_count": 2
        }
      ]
    },
    {
      "cell_type": "markdown",
      "source": [
        "# New Section"
      ],
      "metadata": {
        "id": "mWBlrA4taP2Y"
      }
    },
    {
      "cell_type": "code",
      "source": [
        "#TO PRINT RANDOM INTEGERS\n",
        "import random\n",
        "\n",
        "random_integer=random.randint(1,10)\n",
        "print(random_integer)\n",
        "\n",
        "#TO PRINT RANDOM FLOTING NUMBERS\n",
        "random_float=random.random()*5 #to create random float beyween 0 to 5\n",
        "print(random_float)"
      ],
      "metadata": {
        "colab": {
          "base_uri": "https://localhost:8080/"
        },
        "id": "-00C8PqfXhlF",
        "outputId": "665ab6c5-4d49-4124-b295-fbd2815e0dd7"
      },
      "execution_count": null,
      "outputs": [
        {
          "output_type": "stream",
          "name": "stdout",
          "text": [
            "3\n",
            "3.1226180123571834\n"
          ]
        }
      ]
    },
    {
      "cell_type": "code",
      "source": [
        "fruits=[\"lemon\",\"straeberries\",\"apple\",\"banana\"]\n",
        "vegetables=[\"carrot\",\"raddish\",\"onion\",\"tomato\"]\n",
        "mix=[fruits,vegetables]\n",
        "print(mix[1][1])"
      ],
      "metadata": {
        "colab": {
          "base_uri": "https://localhost:8080/"
        },
        "id": "RhgtB5L15F0r",
        "outputId": "6afc0d54-51fa-4d0c-b022-0334649e5af2"
      },
      "execution_count": null,
      "outputs": [
        {
          "output_type": "stream",
          "name": "stdout",
          "text": [
            "raddish\n"
          ]
        }
      ]
    },
    {
      "cell_type": "code",
      "source": [
        "#FOR LOOP\n",
        "fruits=[\"apple\",\"banana\",\"mango\"]\n",
        "for fruit in fruits:\n",
        "  print(fruit)\n",
        "  print(fruit +\" pie\")\n",
        "  print(fruits)#if it is indended after for loop it will be printed 3 time but if it is intended before for loop it will printed only one\n",
        "  #time because it is not a part of for loop"
      ],
      "metadata": {
        "colab": {
          "base_uri": "https://localhost:8080/"
        },
        "id": "lt7QDBExhg0f",
        "outputId": "7e467ef7-873d-4b28-e623-e1da8ec11566"
      },
      "execution_count": null,
      "outputs": [
        {
          "output_type": "stream",
          "name": "stdout",
          "text": [
            "apple\n",
            "apple pie\n",
            "['apple', 'banana', 'mango']\n",
            "banana\n",
            "banana pie\n",
            "['apple', 'banana', 'mango']\n",
            "mango\n",
            "mango pie\n",
            "['apple', 'banana', 'mango']\n"
          ]
        }
      ]
    },
    {
      "cell_type": "code",
      "source": [
        "fruits=[\"apple\",\"banana\",\"mango\"]\n",
        "for fruit in range(0,len(fruits)):\n",
        "  print(fruits[fruit])"
      ],
      "metadata": {
        "colab": {
          "base_uri": "https://localhost:8080/"
        },
        "id": "PjXApaO8ot-8",
        "outputId": "b446f631-236a-400f-eaa5-d173be94b3a7"
      },
      "execution_count": null,
      "outputs": [
        {
          "output_type": "stream",
          "name": "stdout",
          "text": [
            "apple\n",
            "banana\n",
            "mango\n"
          ]
        }
      ]
    },
    {
      "cell_type": "code",
      "source": [
        "name=[\"26\",\"27\",\"28\",\"29\"]\n",
        "n=4\n",
        "total=0\n",
        "for std_name in range(0,len(name)):\n",
        "  name[std_name]=int(name[std_name])\n",
        "  # print(std_name)\n",
        "  total=total+name[std_name]\n",
        "avg=total/4\n",
        "print(avg)"
      ],
      "metadata": {
        "colab": {
          "base_uri": "https://localhost:8080/"
        },
        "id": "fedRtl13vGqM",
        "outputId": "729420d3-3607-40ed-86b4-ccc4026f20bb"
      },
      "execution_count": null,
      "outputs": [
        {
          "output_type": "stream",
          "name": "stdout",
          "text": [
            "27.5\n"
          ]
        }
      ]
    },
    {
      "cell_type": "code",
      "source": [
        "a=[\"ben\",\"michael\",\"choel\",\"angela\"]\n",
        "import random\n",
        "rd=random.randint(0,len(a)-1)\n",
        "print(a[rd])"
      ],
      "metadata": {
        "colab": {
          "base_uri": "https://localhost:8080/"
        },
        "id": "ALevv1MgFG0O",
        "outputId": "3ef4ddb5-a644-4ef3-9b05-05509e3e3462"
      },
      "execution_count": null,
      "outputs": [
        {
          "output_type": "stream",
          "name": "stdout",
          "text": [
            "michael\n"
          ]
        }
      ]
    },
    {
      "cell_type": "code",
      "source": [
        "#FUNCTIONS\n",
        "def my_function():\n",
        "  print(\"hello\")\n",
        "  print(\"bye\")\n",
        "\n",
        "my_function()#the function is invoked or triggered by calling the function so as to print the values of function defined\n"
      ],
      "metadata": {
        "colab": {
          "base_uri": "https://localhost:8080/"
        },
        "id": "-IYgaSAcuc9N",
        "outputId": "bd92933c-fb67-4e2f-dd0b-b599ece02756"
      },
      "execution_count": null,
      "outputs": [
        {
          "output_type": "stream",
          "name": "stdout",
          "text": [
            "hello\n",
            "bye\n"
          ]
        }
      ]
    },
    {
      "cell_type": "code",
      "source": [
        "#CTRL KEYS TO BE USED\n",
        "#-ctrl+/\n",
        "#indentation-ctrl+ ]/["
      ],
      "metadata": {
        "id": "PdEASIjrBKjI"
      },
      "execution_count": null,
      "outputs": []
    },
    {
      "cell_type": "code",
      "source": [
        "fruits=[\"apple\",\"mango\",\"banana\",\"guva\"]\n",
        "import random\n",
        "rd=random.randint(0,len(fruits)-1)\n",
        "value=fruits[rd]\n",
        "print(value)\n",
        "for n in value:\n",
        "  print(\" '_'  \")\n"
      ],
      "metadata": {
        "colab": {
          "base_uri": "https://localhost:8080/"
        },
        "id": "TPamld5n7Wsi",
        "outputId": "d53ad3bb-0d9d-4768-e874-9012142a46e1"
      },
      "execution_count": null,
      "outputs": [
        {
          "output_type": "stream",
          "name": "stdout",
          "text": [
            "apple\n",
            " '_'  \n",
            " '_'  \n",
            " '_'  \n",
            " '_'  \n",
            " '_'  \n"
          ]
        }
      ]
    },
    {
      "cell_type": "code",
      "source": [
        "chosen_word=\"srenidhe\"\n",
        "\n",
        "display=[]\n",
        "for _ in chosen_word:\n",
        "  display+=\"_\"\n",
        "print(display)"
      ],
      "metadata": {
        "colab": {
          "base_uri": "https://localhost:8080/"
        },
        "id": "SzOiXqWb_6wx",
        "outputId": "6b77de8b-b093-4902-f50f-a3e9ea27b034"
      },
      "execution_count": null,
      "outputs": [
        {
          "output_type": "stream",
          "name": "stdout",
          "text": [
            "['_', '_', '_', '_', '_', '_', '_', '_']\n"
          ]
        }
      ]
    },
    {
      "cell_type": "code",
      "source": [],
      "metadata": {
        "id": "UFPwRKfaibfo"
      },
      "execution_count": null,
      "outputs": []
    },
    {
      "cell_type": "code",
      "source": [
        "fruits=[\"apple\",\"mango\",\"banana\",\"guva\"]\n",
        "\n",
        "import random\n",
        "rd=random.randint(0,len(fruits)-1)\n",
        "value=fruits[rd]\n",
        "print(value)\n",
        "display=[]\n",
        "\n",
        "for _ in value:\n",
        "  display+=\"_\"\n",
        "print(display)\n",
        "\n",
        "end=False\n",
        "\n",
        "while not end:\n",
        "  guess=input(\"The letter is:\")\n",
        "\n",
        "  for position in range(0,len(value)):\n",
        "    letter=value[position]\n",
        "    if letter==guess:\n",
        "      display[position]=letter\n",
        "      print(display)\n",
        "  if \"_\" not in display:\n",
        "       end=True\n",
        "       print(\"you won\")\n",
        "\n"
      ],
      "metadata": {
        "colab": {
          "base_uri": "https://localhost:8080/"
        },
        "id": "XO7IBs1cOB7d",
        "outputId": "8635d6df-2212-499d-d413-7773caf497b6"
      },
      "execution_count": null,
      "outputs": [
        {
          "output_type": "stream",
          "name": "stdout",
          "text": [
            "apple\n",
            "['_', '_', '_', '_', '_']\n",
            "The letter is:p\n",
            "['_', 'p', '_', '_', '_']\n",
            "['_', 'p', 'p', '_', '_']\n",
            "The letter is:l\n",
            "['_', 'p', 'p', 'l', '_']\n",
            "The letter is:e\n",
            "['_', 'p', 'p', 'l', 'e']\n",
            "The letter is:a\n",
            "['a', 'p', 'p', 'l', 'e']\n",
            "you won\n"
          ]
        }
      ]
    },
    {
      "cell_type": "code",
      "source": [
        "for n in range(0,7):\n",
        "  print(n)"
      ],
      "metadata": {
        "colab": {
          "base_uri": "https://localhost:8080/"
        },
        "id": "Bzl6Kao9fHS9",
        "outputId": "43946e88-0466-400e-9830-42fec52d84ce"
      },
      "execution_count": null,
      "outputs": [
        {
          "output_type": "stream",
          "name": "stdout",
          "text": [
            "0\n",
            "1\n",
            "2\n",
            "3\n",
            "4\n",
            "5\n",
            "6\n"
          ]
        }
      ]
    },
    {
      "cell_type": "code",
      "source": [
        "#TO IMPORT FILE TO THE CURRENT FILE\n",
        "#import file_name\n",
        "#a=file_name.list_name(any name mentioned in the previous file)\n",
        "\n",
        "#or\n",
        "\n",
        "#from file_name import list_name\n",
        "#print(list_name)\n",
        "\n",
        "#FROM THE SAME FILE WE CAN IMPORT TWO LIST AT DIFFERENT PLACES OF THE CODE BY MENTION THE LIST NAME AT THE LAST AFTER IMPORTING THE FILE\n",
        "#FOR EXAMPLE:\n",
        "#MY FILE NAMED SREE HAS TWO LIST CALLED FRNDS AND FAMILY.I CAN IMPORT THE FRND LIST BY\n",
        "#from sree import frnds\n",
        "#OR WANNA IMPORT BOTH THE LIST\n",
        "# from sree import frnds,family"
      ],
      "metadata": {
        "id": "K6XoEuV2fNY4"
      },
      "execution_count": null,
      "outputs": []
    },
    {
      "cell_type": "code",
      "source": [
        "#FUNCTIONS\n",
        "def greet():\n",
        "  print(\"hello\")\n",
        "  print(\"hi\")\n",
        "  print(\"bye\")\n",
        "\n",
        "greet()\n",
        "\n",
        "#FUNCTION WITH INPUTS\n",
        "def values(name):\n",
        "  print(f\"hello {name}\")\n",
        "  print(f\"How you doing {name}\")\n",
        "values(\"vigdhe\")  #name is reffered as parameter and vigdhe is reffered as argument\n"
      ],
      "metadata": {
        "colab": {
          "base_uri": "https://localhost:8080/"
        },
        "id": "4U5cyQB5JCc-",
        "outputId": "97f67cad-1a73-4c06-af9b-c3b2b544befa"
      },
      "execution_count": null,
      "outputs": [
        {
          "output_type": "stream",
          "name": "stdout",
          "text": [
            "hello\n",
            "hi\n",
            "bye\n",
            "hello vigdhe\n",
            "How you doing vigdhe\n"
          ]
        }
      ]
    },
    {
      "cell_type": "code",
      "source": [
        "#FUNTION WITH MORE THAN ONE INPUT\n",
        "def team(name,location):\n",
        "  print(f\"hello {name}\")\n",
        "  print(f\"what is it like in {location}\")\n",
        "team(\"vigu\",\"mmda\")"
      ],
      "metadata": {
        "colab": {
          "base_uri": "https://localhost:8080/"
        },
        "id": "GQjc7wWEPDu3",
        "outputId": "156a4753-0840-4623-9910-a6d1ac8d9912"
      },
      "execution_count": null,
      "outputs": [
        {
          "output_type": "stream",
          "name": "stdout",
          "text": [
            "hello vigu\n",
            "what is it like in mmda\n"
          ]
        }
      ]
    },
    {
      "cell_type": "code",
      "source": [
        "#POSITIONAL ARGUMENTS\n",
        "def numbers(a,b,c):\n",
        "  print(f\"value of {a}\")\n",
        "  print(f\"value of {b}\")\n",
        "  print(f\"value of {c}\")\n",
        "numbers(1,2,3)\n"
      ],
      "metadata": {
        "colab": {
          "base_uri": "https://localhost:8080/"
        },
        "id": "ghLDQwj1Q1vc",
        "outputId": "2df3aeb5-d304-4aa7-ad98-06f805360f0e"
      },
      "execution_count": null,
      "outputs": [
        {
          "output_type": "stream",
          "name": "stdout",
          "text": [
            "value of 1\n",
            "value of 2\n",
            "value of 3\n"
          ]
        }
      ]
    },
    {
      "cell_type": "code",
      "source": [
        "#KEYWORD ARGUMENTS\n",
        "def numbers(a,b,c):\n",
        "  print(f\"value of {a}\")\n",
        "  print(f\"value of {b}\")\n",
        "  print(f\"value of {c}\")\n",
        "numbers(a=2,b=3,c=1)"
      ],
      "metadata": {
        "colab": {
          "base_uri": "https://localhost:8080/"
        },
        "id": "LrkBP40HRdSR",
        "outputId": "cb4f2064-aef0-4ea0-ea71-a5585791135e"
      },
      "execution_count": null,
      "outputs": [
        {
          "output_type": "stream",
          "name": "stdout",
          "text": [
            "value of 2\n",
            "value of 3\n",
            "value of 1\n"
          ]
        }
      ]
    },
    {
      "cell_type": "code",
      "source": [
        "#ENCRYPTION\n",
        "alphabet=['a','b','c','d','e','f','g','h','i','j','k','l','m','n','o','p','q','r','s','t','u','v', 'w','x','y','z']\n",
        "direction=input(\"encode or decode: \\n\")\n",
        "\n",
        "plain_text=input(\"type your message: \\n\").lower()\n",
        "shift_amount=int(input(\"type your shift number: \\n\"))\n",
        "def encrypt(text,shift):\n",
        "  cipher=\"\"\n",
        "  for letter in text:\n",
        "    position=alphabet.index(letter)\n",
        "    new_position=position+shift\n",
        "    new_letter=alphabet[new_position]\n",
        "    cipher+=new_letter\n",
        "  print(f\"the encoded text is {cipher}\")\n",
        "encrypt(text=plain_text,shift=shift_amount)\n"
      ],
      "metadata": {
        "colab": {
          "base_uri": "https://localhost:8080/"
        },
        "id": "l4eaDfuxkcpH",
        "outputId": "41280c06-c5f2-4343-db89-ca0ad193183e"
      },
      "execution_count": null,
      "outputs": [
        {
          "output_type": "stream",
          "name": "stdout",
          "text": [
            "encode or decode: \n",
            "encode\n",
            "type your message: \n",
            "sreni\n",
            "type your shift number: \n",
            "2\n",
            "the encoded text is utgpk\n"
          ]
        }
      ]
    },
    {
      "cell_type": "code",
      "source": [
        "#DECRYPTION\n",
        "alphabet=['a','b','c','d','e','f','g','h','i','j','k','l','m','n','o','p','q','r','s','t','u','v', 'w','x','y','z']\n",
        "plain_text=input(\"type your message: \\n\").lower()\n",
        "shift_amount=int(input(\"type your shift number: \\n\"))\n",
        "def encrypt(text,shift):\n",
        "  cipher=\"\"\n",
        "  for letter in text:\n",
        "    position=alphabet.index(letter)\n",
        "    new_position=position-shift\n",
        "    new_letter=alphabet[new_position]\n",
        "    cipher+=new_letter\n",
        "  print(f\"the encoded text is {cipher}\")\n",
        "encrypt(text=plain_text,shift=shift_amount)\n"
      ],
      "metadata": {
        "colab": {
          "base_uri": "https://localhost:8080/"
        },
        "id": "AfXJN0tQcmn0",
        "outputId": "3d15a152-22f1-4b11-9247-2289c8c832ab"
      },
      "execution_count": null,
      "outputs": [
        {
          "output_type": "stream",
          "name": "stdout",
          "text": [
            "type your message: \n",
            "utgpk\n",
            "type your shift number: \n",
            "2\n",
            "the encoded text is sreni\n"
          ]
        }
      ]
    },
    {
      "cell_type": "code",
      "source": [
        "from ast import Name\n",
        "#ENCRYPTION AND DECRYPTION\n",
        "alphabet=['a','b','c','d','e','f','g','h','i','j','k','l','m','n','o','p','q','r','s','t','u','v', 'w','x','y','z']\n",
        "direction_cipher=input(\"encode or decode: \\n\")\n",
        "\n",
        "plain_text=input(\"type your message: \\n\").lower()\n",
        "shift_amount=int(input(\"type your shift number: \\n\"))\n",
        "def encrypt(text,shift,direction):\n",
        "  string=\"\"\n",
        "  for letter in text:\n",
        "    position=alphabet.index(letter)\n",
        "    # if direction==\"decode\":\n",
        "    #   shift*=-1\n",
        "    new_position=position+shift\n",
        "    cipher=alphabet[new_position]\n",
        "    string+=cipher\n",
        "  print(f\"the {direction} text is {string}\")\n",
        "encrypt(text=plain_text,shift=shift_amount,direction=direction_cipher)\n"
      ],
      "metadata": {
        "colab": {
          "base_uri": "https://localhost:8080/"
        },
        "id": "i4DGocISjfYr",
        "outputId": "cdb61493-572e-4c12-b57a-58cdf4491ea3"
      },
      "execution_count": null,
      "outputs": [
        {
          "output_type": "stream",
          "name": "stdout",
          "text": [
            "encode or decode: \n",
            "encode\n",
            "type your message: \n",
            "sreni\n",
            "type your shift number: \n",
            "2\n",
            "the encode text is utgpk\n"
          ]
        }
      ]
    },
    {
      "cell_type": "code",
      "source": [
        "#DICTIONARY\n",
        "#syntax\n",
        "#{key:value}\n",
        "dictionary={\"pen\":\"that helps in writing during the exams\",\n",
        "            \"rubber\":\"that helps in erasing the things return by the pencil\",\n",
        "            \"pencil\":\"it is similar to a pen\"\n",
        "}\n",
        "#RETRIEVING THE ITEMS FROM THE DICTIONARY\n",
        "print(dictionary[\"rubber\"])\n",
        "\n",
        "#ADDING NEW ITEMS TO THE DICTIONARY\n",
        "dictionary[\"name\"]=\"the list of the students present in the school\"\n",
        "print(dictionary)\n",
        "\n",
        "#TO CREATE EMPTY DICTIONARY\n",
        "#dictionary={}\n",
        "#print(dictionary)\n",
        "\n",
        "#TO EDIT THE VALUES IN DICTIONARY\n",
        "dictionary[\"pencil\"]=\"it helps in writing\"\n",
        "print(dictionary)"
      ],
      "metadata": {
        "colab": {
          "base_uri": "https://localhost:8080/"
        },
        "id": "BDUirmx7vgeE",
        "outputId": "15a19ace-3cf4-494b-e299-1a9330a56b68"
      },
      "execution_count": null,
      "outputs": [
        {
          "output_type": "stream",
          "name": "stdout",
          "text": [
            "that helps in erasing the things return by the pencil\n",
            "{'pen': 'that helps in writing during the exams', 'rubber': 'that helps in erasing the things return by the pencil', 'pencil': 'it is similar to a pen', 'name': 'the list of the students present in the school'}\n",
            "{'pen': 'that helps in writing during the exams', 'rubber': 'that helps in erasing the things return by the pencil', 'pencil': 'it helps in writing', 'name': 'the list of the students present in the school'}\n"
          ]
        }
      ]
    },
    {
      "cell_type": "code",
      "source": [
        "#LOOP THROUGH THE DICTIONARY\n",
        "for key in dictionary:\n",
        "  print(key)\n",
        "  print(dictionary[key])"
      ],
      "metadata": {
        "colab": {
          "base_uri": "https://localhost:8080/"
        },
        "id": "Uwctk1YW07GK",
        "outputId": "424f69f8-3d07-400f-d6a9-406f008fc731"
      },
      "execution_count": null,
      "outputs": [
        {
          "output_type": "stream",
          "name": "stdout",
          "text": [
            "pen\n",
            "that helps in writing during the exams\n",
            "rubber\n",
            "that helps in erasing the things return by the pencil\n",
            "pencil\n",
            "it helps in writing\n",
            "name\n",
            "the list of the students present in the school\n"
          ]
        }
      ]
    },
    {
      "cell_type": "code",
      "source": [
        "score={\n",
        "    \"sree\":88,\n",
        "    \"bala\":91,\n",
        "    \"priya\":98,\n",
        "    \"sisu\":56\n",
        "}\n",
        "\n",
        "grade={}\n",
        "for student in score:\n",
        "  if score[student]>95:\n",
        "    grade[student]=\"outstanding\"\n",
        "  elif score[student]>90:\n",
        "    grade[student]=\"very good\"\n",
        "  elif score[student]>85:\n",
        "    grade[student]=\"good\"\n",
        "  else:\n",
        "    grade[student]=\"fail\"\n",
        "print(grade)"
      ],
      "metadata": {
        "colab": {
          "base_uri": "https://localhost:8080/"
        },
        "id": "Bq5G9xwy47nD",
        "outputId": "66cc8d2d-7489-4cad-f4be-db1a1c3e87d8"
      },
      "execution_count": null,
      "outputs": [
        {
          "output_type": "stream",
          "name": "stdout",
          "text": [
            "{'sree': 'good', 'bala': 'very good', 'priya': 'outstanding', 'sisu': 'fail'}\n"
          ]
        }
      ]
    },
    {
      "cell_type": "code",
      "source": [
        "#NESTING A LIST INSIDE A DICTIONARY\n",
        "india={\"side\":\"north\",\n",
        "       \"states\":[\"delhi\",\"rajasthan\",\"bihar\",\"nagpur\"],\n",
        "       \"number\":4\n",
        "\n",
        "}\n",
        "print(india)\n",
        "print(india[\"states\"][1])"
      ],
      "metadata": {
        "colab": {
          "base_uri": "https://localhost:8080/"
        },
        "id": "hxEkSf-RY2JE",
        "outputId": "917419b3-83c0-4e65-dd2f-5cf561170ea5"
      },
      "execution_count": null,
      "outputs": [
        {
          "output_type": "stream",
          "name": "stdout",
          "text": [
            "{'side': 'north', 'states': ['delhi', 'rajasthan', 'bihar', 'nagpur'], 'number': 4}\n",
            "rajasthan\n"
          ]
        }
      ]
    },
    {
      "cell_type": "code",
      "source": [
        "#NESTING A DICTIONARY INSIDE A DICTIONARY\n",
        "india={\"states\":{\"visisted\":[\"delhi\",\"rajasthan\",\"bihar\",\"nagpur\"],\"number\":4},\n",
        "       \"states_1\":{\"visited\":[\"tamil\",\"kerala\",\"karnataka\",\"andhara\"],\"number\":4}\n",
        "\n",
        "}\n",
        "print(india)"
      ],
      "metadata": {
        "colab": {
          "base_uri": "https://localhost:8080/"
        },
        "id": "Qe1sS3uDbKaC",
        "outputId": "8a6116c4-ecb0-4244-91cc-8a4652c64e91"
      },
      "execution_count": null,
      "outputs": [
        {
          "output_type": "stream",
          "name": "stdout",
          "text": [
            "{'states': {'visisted': ['delhi', 'rajasthan', 'bihar', 'nagpur'], 'number': 4}, 'states_1': {'visited': ['tamil', 'kerala', 'karnataka', 'andhara'], 'number': 4}}\n"
          ]
        }
      ]
    },
    {
      "cell_type": "code",
      "source": [
        "#NESTING A DICTIONARY INSIDE A LIST\n",
        "india=[{\"states\":\"north\",\n",
        "        \"places\":[\"delhi\",\"rajasthan\",\"bihar\",\"nagpur\"],\n",
        "        \"number\":4\n",
        "        },\n",
        "       {\"states_1\":\"south\",\n",
        "        \"places\":[\"tamil\",\"kerala\",\"karnataka\",\"andhara\"],\n",
        "        \"number\":4\n",
        "        }\n",
        "\n",
        "\n",
        "]\n",
        "print(india[0])\n",
        "print(india[0][\"places\"])"
      ],
      "metadata": {
        "colab": {
          "base_uri": "https://localhost:8080/"
        },
        "id": "c2SU4SjfdV6p",
        "outputId": "7af7b202-680c-4583-ba63-f43672bd3c64"
      },
      "execution_count": null,
      "outputs": [
        {
          "output_type": "stream",
          "name": "stdout",
          "text": [
            "{'states': 'north', 'places': ['delhi', 'rajasthan', 'bihar', 'nagpur'], 'number': 4}\n",
            "['delhi', 'rajasthan', 'bihar', 'nagpur']\n"
          ]
        }
      ]
    },
    {
      "cell_type": "code",
      "source": [
        "#ADDING A DICTIONARY IN A CREATED LIST\n",
        "india=[{\"states\":\"north\",\n",
        "        \"places\":[\"delhi\",\"rajasthan\",\"bihar\",\"nagpur\"],\n",
        "        \"number\":4\n",
        "        },\n",
        "       {\"states_1\":\"south\",\n",
        "        \"places\":[\"tamil\",\"kerala\",\"karnataka\",\"andhara\"],\n",
        "        \"number\":4\n",
        "        }\n",
        "]\n",
        "def new_country(st,pl,nu):\n",
        "  new={}\n",
        "  new[\"states\"]=st\n",
        "  new[\"places\"]=pl\n",
        "  new[\"number\"]=nu\n",
        "  india.append(new)\n",
        "new_country(\"east\",[\"mehalaya\",\"odisha\",\"west bengal\",\"ap\"],4)\n",
        "print(india)"
      ],
      "metadata": {
        "colab": {
          "base_uri": "https://localhost:8080/"
        },
        "id": "-tJTC3-sn4hP",
        "outputId": "bf20b844-a8cb-4148-cb9b-eef80c13b977"
      },
      "execution_count": null,
      "outputs": [
        {
          "output_type": "stream",
          "name": "stdout",
          "text": [
            "[{'states': 'north', 'places': ['delhi', 'rajasthan', 'bihar', 'nagpur'], 'number': 4}, {'states_1': 'south', 'places': ['tamil', 'kerala', 'karnataka', 'andhara'], 'number': 4}, {'states': 'east', 'places': ['mehalaya', 'odisha', 'west bengal', 'ap'], 'number': 4}]\n"
          ]
        }
      ]
    },
    {
      "cell_type": "code",
      "source": [
        "#PROJECT\n",
        "\n",
        "def result(record):\n",
        "  highest=0\n",
        "  winner=\"\"\n",
        "  for bidder in record:\n",
        "    amount=record[bidder]\n",
        "    if amount>highest:\n",
        "      highest=amount\n",
        "      winner+=bidder\n",
        "  print(f\"the winner is {winner}\")\n",
        "\n",
        "finished=False\n",
        "\n",
        "while not finished:\n",
        "  name=input(\"ENTER YOUR NAME: \")\n",
        "  bid=int(input(\"HOW MANY BIDS: $\"))\n",
        "  empty={}\n",
        "  empty[name]=bid\n",
        "  should_continue=input(\"Is there anyone to bid?'yes' or 'no'\")\n",
        "  if should_continue==\"no\":\n",
        "    finished=True\n",
        "    result(empty)\n",
        "\n",
        "\n"
      ],
      "metadata": {
        "colab": {
          "base_uri": "https://localhost:8080/"
        },
        "id": "aToIu2znjL9t",
        "outputId": "cd866428-fca0-42b0-b356-5ddac56543f3"
      },
      "execution_count": null,
      "outputs": [
        {
          "output_type": "stream",
          "name": "stdout",
          "text": [
            "ENTER YOUR NAME: srenidhe\n",
            "HOW MANY BIDS: $500\n",
            "Is there anyone to bid?'yes' or 'no'yes\n",
            "ENTER YOUR NAME: bala\n",
            "HOW MANY BIDS: $1000\n",
            "Is there anyone to bid?'yes' or 'no'yes\n",
            "ENTER YOUR NAME: sisu\n",
            "HOW MANY BIDS: $100\n",
            "Is there anyone to bid?'yes' or 'no'no\n",
            "the winner is sisu\n"
          ]
        }
      ]
    },
    {
      "cell_type": "code",
      "source": [
        "#FUNCTIONS WITH OUTPUT\n",
        "# def my_fun()\n",
        "#result=3*2\n",
        "#return result (this statement replaces the my_fun() as result and prints the output\n",
        "\n",
        "def format_name(f_name,l_name):\n",
        "  \"\"\"takes the first and last name\"\"\"\n",
        "  a=print(f_name.title())#to convert the strating letter of string into a capital letter\n",
        "  b=print(l_name.title())\n",
        "  return f\"{a} {b}\"\n",
        "format_name(\"srenidhe\",\"SREnidhe\")\n",
        "\n"
      ],
      "metadata": {
        "colab": {
          "base_uri": "https://localhost:8080/",
          "height": 72
        },
        "id": "xBVQK2m83DMe",
        "outputId": "3e741bf3-9ebb-42f9-8c66-f89959673baf"
      },
      "execution_count": null,
      "outputs": [
        {
          "output_type": "stream",
          "name": "stdout",
          "text": [
            "Srenidhe\n",
            "Srenidhe\n"
          ]
        },
        {
          "output_type": "execute_result",
          "data": {
            "text/plain": [
              "'None None'"
            ],
            "application/vnd.google.colaboratory.intrinsic+json": {
              "type": "string"
            }
          },
          "metadata": {},
          "execution_count": 2
        }
      ]
    },
    {
      "cell_type": "code",
      "source": [
        "#EVERTHING THAT IS AFTER THE RETURN VALUE IS GONNA REPLACE THE VALUE WHERE THE FUNTION WAS CALLED"
      ],
      "metadata": {
        "id": "85thkrMhErY_"
      },
      "execution_count": null,
      "outputs": []
    },
    {
      "cell_type": "code",
      "source": [
        "#DOCSTRINGS\n",
        "#when it is defined after the function and when the function is called it diplays the pyrpose of the function that we have mentioned earlier\n",
        "#it can also be used as a comment"
      ],
      "metadata": {
        "id": "lAZkcfu4-Jnl"
      },
      "execution_count": null,
      "outputs": []
    },
    {
      "cell_type": "code",
      "source": [
        "import random\n",
        "\n",
        "def deal_card():\n",
        "  \"\"\"Returns a random card from the deck.\"\"\"\n",
        "  cards=[\"11,2,3,4,5,6,7,8,9,10,10,10,10\"]\n",
        "  card=random.choice(cards)\n",
        "  return card\n",
        "\n",
        "def calculate_score(car):\n",
        "  if sum(car)==21 and len(car)==2:\n",
        "    return 0\n",
        "  if 11 in car and sum(car)>21:\n",
        "    car.remove(11)\n",
        "    car.append(1)\n",
        "    return sum(car)\n",
        "\n",
        "user_card=[]\n",
        "comp_card=[]\n",
        "\n",
        "for _ in range(2):\n",
        "  new_card=deal_card()\n",
        "  user_card.append(new_card)#append is used because a single element is added to the existing list\n",
        "  #user_card+=new_card or user_card.extend(new_card) can be used only the new_card is also a list\n",
        "  comp_card.append(new_card)\n",
        "\n",
        "user_score=calculate_score(user_card)\n",
        "comp_score=calculate_score(comp_card)"
      ],
      "metadata": {
        "id": "OZIp2biLJNzI",
        "colab": {
          "base_uri": "https://localhost:8080/",
          "height": 340
        },
        "outputId": "3348cd6a-bf3b-47d9-d809-b9ae9c7cd7af"
      },
      "execution_count": null,
      "outputs": [
        {
          "output_type": "error",
          "ename": "TypeError",
          "evalue": "ignored",
          "traceback": [
            "\u001b[0;31m---------------------------------------------------------------------------\u001b[0m",
            "\u001b[0;31mTypeError\u001b[0m                                 Traceback (most recent call last)",
            "\u001b[0;32m<ipython-input-3-82447a762a3c>\u001b[0m in \u001b[0;36m<cell line: 26>\u001b[0;34m()\u001b[0m\n\u001b[1;32m     24\u001b[0m   \u001b[0mcomp_card\u001b[0m\u001b[0;34m.\u001b[0m\u001b[0mappend\u001b[0m\u001b[0;34m(\u001b[0m\u001b[0mnew_card\u001b[0m\u001b[0;34m)\u001b[0m\u001b[0;34m\u001b[0m\u001b[0;34m\u001b[0m\u001b[0m\n\u001b[1;32m     25\u001b[0m \u001b[0;34m\u001b[0m\u001b[0m\n\u001b[0;32m---> 26\u001b[0;31m \u001b[0muser_score\u001b[0m\u001b[0;34m=\u001b[0m\u001b[0mcalculate_score\u001b[0m\u001b[0;34m(\u001b[0m\u001b[0muser_card\u001b[0m\u001b[0;34m)\u001b[0m\u001b[0;34m\u001b[0m\u001b[0;34m\u001b[0m\u001b[0m\n\u001b[0m\u001b[1;32m     27\u001b[0m \u001b[0mcomp_score\u001b[0m\u001b[0;34m=\u001b[0m\u001b[0mcalculate_score\u001b[0m\u001b[0;34m(\u001b[0m\u001b[0mcomp_card\u001b[0m\u001b[0;34m)\u001b[0m\u001b[0;34m\u001b[0m\u001b[0;34m\u001b[0m\u001b[0m\n",
            "\u001b[0;32m<ipython-input-3-82447a762a3c>\u001b[0m in \u001b[0;36mcalculate_score\u001b[0;34m(car)\u001b[0m\n\u001b[1;32m      8\u001b[0m \u001b[0;34m\u001b[0m\u001b[0m\n\u001b[1;32m      9\u001b[0m \u001b[0;32mdef\u001b[0m \u001b[0mcalculate_score\u001b[0m\u001b[0;34m(\u001b[0m\u001b[0mcar\u001b[0m\u001b[0;34m)\u001b[0m\u001b[0;34m:\u001b[0m\u001b[0;34m\u001b[0m\u001b[0;34m\u001b[0m\u001b[0m\n\u001b[0;32m---> 10\u001b[0;31m   \u001b[0;32mif\u001b[0m \u001b[0msum\u001b[0m\u001b[0;34m(\u001b[0m\u001b[0mcar\u001b[0m\u001b[0;34m)\u001b[0m\u001b[0;34m==\u001b[0m\u001b[0;36m21\u001b[0m \u001b[0;32mand\u001b[0m \u001b[0mlen\u001b[0m\u001b[0;34m(\u001b[0m\u001b[0mcar\u001b[0m\u001b[0;34m)\u001b[0m\u001b[0;34m==\u001b[0m\u001b[0;36m2\u001b[0m\u001b[0;34m:\u001b[0m\u001b[0;34m\u001b[0m\u001b[0;34m\u001b[0m\u001b[0m\n\u001b[0m\u001b[1;32m     11\u001b[0m     \u001b[0;32mreturn\u001b[0m \u001b[0;36m0\u001b[0m\u001b[0;34m\u001b[0m\u001b[0;34m\u001b[0m\u001b[0m\n\u001b[1;32m     12\u001b[0m   \u001b[0;32mif\u001b[0m \u001b[0;36m11\u001b[0m \u001b[0;32min\u001b[0m \u001b[0mcar\u001b[0m \u001b[0;32mand\u001b[0m \u001b[0msum\u001b[0m\u001b[0;34m(\u001b[0m\u001b[0mcar\u001b[0m\u001b[0;34m)\u001b[0m\u001b[0;34m>\u001b[0m\u001b[0;36m21\u001b[0m\u001b[0;34m:\u001b[0m\u001b[0;34m\u001b[0m\u001b[0;34m\u001b[0m\u001b[0m\n",
            "\u001b[0;31mTypeError\u001b[0m: unsupported operand type(s) for +: 'int' and 'str'"
          ]
        }
      ]
    },
    {
      "cell_type": "code",
      "source": [
        "#SCOPE\n",
        "enemies=1\n",
        "\n",
        "def inc_ene():\n",
        "  enemies=2\n",
        "  print(f\"the enemies are {enemies}\")\n",
        "\n",
        "inc_ene()\n",
        "print(f\"the enemies are {enemies}\")"
      ],
      "metadata": {
        "colab": {
          "base_uri": "https://localhost:8080/"
        },
        "id": "_gtHzgsdgAPe",
        "outputId": "3be7cd75-96fe-437f-b9ef-280ce84b1858"
      },
      "execution_count": null,
      "outputs": [
        {
          "output_type": "stream",
          "name": "stdout",
          "text": [
            "the enemies are 2\n",
            "the enemies are 1\n"
          ]
        }
      ]
    },
    {
      "cell_type": "code",
      "source": [
        "# when a variable is created inside a function it is accesiable only inside that function it is called as local scope\n",
        "# when a variable is defined outside a function it can be accessed anywhwere inside the scope or any function"
      ],
      "metadata": {
        "id": "KjF7OBpPh3ro"
      },
      "execution_count": null,
      "outputs": []
    },
    {
      "cell_type": "code",
      "source": [
        "##when a variable is created inside a for loop or if statement the variable is not necessary to be intended and it can be accessed anywhere\n",
        "##but when it is createde inside a function it should be intended\n",
        "a=3\n",
        "ene=[\"blue\",\"red\",\"yellow\"]\n",
        "if a<5:\n",
        "  b=ene[0]\n",
        "print(f\"{b}\")\n",
        "\n",
        "def colours():\n",
        "  if a<5:\n",
        "    b=ene[1]\n",
        "    print(f\"{b}\")\n",
        "colours()\n"
      ],
      "metadata": {
        "colab": {
          "base_uri": "https://localhost:8080/"
        },
        "id": "Cq4_0QIUkaTz",
        "outputId": "616d4721-748d-45de-a5cb-0391408004c4"
      },
      "execution_count": null,
      "outputs": [
        {
          "output_type": "stream",
          "name": "stdout",
          "text": [
            "blue\n",
            "red\n"
          ]
        }
      ]
    },
    {
      "cell_type": "code",
      "source": [
        "#it shows error cause enemies is a global variable it cannot be accessed inside the local scope so enemies=1 has to be intended inside the funtion inc_ene()\n",
        "##it can be accessed by\n",
        "\n",
        "enemies=1\n",
        "\n",
        "def inc_ene():\n",
        "  enemies+=1\n",
        "  print(f\"the enemies are {enemies}\")\n",
        "\n",
        "inc_ene()\n",
        "print(f\"the enemies are {enemies}\")\n"
      ],
      "metadata": {
        "colab": {
          "base_uri": "https://localhost:8080/",
          "height": 340
        },
        "id": "xeCo2sVzo1_r",
        "outputId": "db435544-f630-4367-bad4-897209d94568"
      },
      "execution_count": null,
      "outputs": [
        {
          "output_type": "error",
          "ename": "UnboundLocalError",
          "evalue": "ignored",
          "traceback": [
            "\u001b[0;31m---------------------------------------------------------------------------\u001b[0m",
            "\u001b[0;31mUnboundLocalError\u001b[0m                         Traceback (most recent call last)",
            "\u001b[0;32m<ipython-input-8-7eba62a67084>\u001b[0m in \u001b[0;36m<cell line: 7>\u001b[0;34m()\u001b[0m\n\u001b[1;32m      5\u001b[0m   \u001b[0mprint\u001b[0m\u001b[0;34m(\u001b[0m\u001b[0;34mf\"the enemies are {enemies}\"\u001b[0m\u001b[0;34m)\u001b[0m\u001b[0;34m\u001b[0m\u001b[0;34m\u001b[0m\u001b[0m\n\u001b[1;32m      6\u001b[0m \u001b[0;34m\u001b[0m\u001b[0m\n\u001b[0;32m----> 7\u001b[0;31m \u001b[0minc_ene\u001b[0m\u001b[0;34m(\u001b[0m\u001b[0;34m)\u001b[0m\u001b[0;34m\u001b[0m\u001b[0;34m\u001b[0m\u001b[0m\n\u001b[0m\u001b[1;32m      8\u001b[0m \u001b[0mprint\u001b[0m\u001b[0;34m(\u001b[0m\u001b[0;34mf\"the enemies are {enemies}\"\u001b[0m\u001b[0;34m)\u001b[0m\u001b[0;34m\u001b[0m\u001b[0;34m\u001b[0m\u001b[0m\n",
            "\u001b[0;32m<ipython-input-8-7eba62a67084>\u001b[0m in \u001b[0;36minc_ene\u001b[0;34m()\u001b[0m\n\u001b[1;32m      2\u001b[0m \u001b[0;34m\u001b[0m\u001b[0m\n\u001b[1;32m      3\u001b[0m \u001b[0;32mdef\u001b[0m \u001b[0minc_ene\u001b[0m\u001b[0;34m(\u001b[0m\u001b[0;34m)\u001b[0m\u001b[0;34m:\u001b[0m\u001b[0;34m\u001b[0m\u001b[0;34m\u001b[0m\u001b[0m\n\u001b[0;32m----> 4\u001b[0;31m   \u001b[0menemies\u001b[0m\u001b[0;34m+=\u001b[0m\u001b[0;36m1\u001b[0m\u001b[0;34m\u001b[0m\u001b[0;34m\u001b[0m\u001b[0m\n\u001b[0m\u001b[1;32m      5\u001b[0m   \u001b[0mprint\u001b[0m\u001b[0;34m(\u001b[0m\u001b[0;34mf\"the enemies are {enemies}\"\u001b[0m\u001b[0;34m)\u001b[0m\u001b[0;34m\u001b[0m\u001b[0;34m\u001b[0m\u001b[0m\n\u001b[1;32m      6\u001b[0m \u001b[0;34m\u001b[0m\u001b[0m\n",
            "\u001b[0;31mUnboundLocalError\u001b[0m: local variable 'enemies' referenced before assignment"
          ]
        }
      ]
    },
    {
      "cell_type": "code",
      "source": [
        "i=50\n",
        "def foo():\n",
        "  i=100\n",
        "  print(i)\n",
        "  return i\n",
        "\n",
        "foo()\n",
        "print(i)"
      ],
      "metadata": {
        "colab": {
          "base_uri": "https://localhost:8080/"
        },
        "id": "bdvYDBGqq-22",
        "outputId": "dce90e28-aee2-4e92-9ee1-0897366bf2d3"
      },
      "execution_count": null,
      "outputs": [
        {
          "output_type": "stream",
          "name": "stdout",
          "text": [
            "100\n",
            "50\n"
          ]
        }
      ]
    },
    {
      "cell_type": "code",
      "source": [
        "import random\n",
        "\n",
        "rd=random.randint(1,50)\n",
        "print(f\"the comp number is {rd}\")\n",
        "easy_lvl_turn=10\n",
        "hard_lvl_turn=5\n",
        "\n",
        "print(\"welcome to the Number Guessing Game\")\n",
        "print(\"I'm thinking of a number between 1 to 100\")\n",
        "level=input(\"choose a diifficulty type.Type 'easy' or 'hard' \" )\n",
        "\n",
        "def difficulty():\n",
        "  if level==\"easy\":\n",
        "    return easy_lvl_turn\n",
        "  else:\n",
        "    return hard_lvl_turn\n",
        "\n",
        "turns=difficulty()\n",
        "\n",
        "print(f\"You have {turns} attempts to guess\")\n",
        "\n",
        "for a in range(0,turns):\n",
        "  guess=int(input(\"Make a guess: \"))\n",
        "  if guess < rd:\n",
        "    print(\"Too Low\")\n",
        "\n",
        "  elif guess > rd:\n",
        "    print(\"Too High\")\n",
        "\n",
        "  else:\n",
        "    print(f\"You have chosen the correct number {guess} \")\n",
        "\n",
        "\n",
        "\n",
        "\n"
      ],
      "metadata": {
        "colab": {
          "base_uri": "https://localhost:8080/"
        },
        "id": "Qj-HSrQ9sA_d",
        "outputId": "704dc1bd-8076-4fe3-d6b3-f1ade2b01d79"
      },
      "execution_count": null,
      "outputs": [
        {
          "output_type": "stream",
          "name": "stdout",
          "text": [
            "the comp number is 22\n",
            "welcome to the Number Guessing Game\n",
            "I'm thinking of a number between 1 to 100\n",
            "choose a diifficulty type.Type 'easy' or 'hard' hard\n",
            "You have 5 attempts to guess\n",
            "Make a guess: 2\n",
            "Too Low\n",
            "Make a guess: 48\n",
            "Too High\n",
            "Make a guess: 27\n",
            "Too High\n",
            "Make a guess: 98\n",
            "Too High\n",
            "Make a guess: 67\n",
            "Too High\n"
          ]
        }
      ]
    },
    {
      "cell_type": "code",
      "source": [
        "# DEBUGGING\n",
        "\n",
        "# def my_fun():\n",
        "#   for i in range(1,20): #It does not print because for loop consider the range from 1 to n-1(19)\n",
        "#     if i==20:\n",
        "#       print(\"You got it\")\n",
        "# my_fun()\n",
        "\n",
        "\n",
        "from random import randint\n",
        "dice_images=[1,2,3,4,5,6]\n",
        "dice_num=randint(1,6) #It shows error cause the list has max of index 5 so the dicew_num has to be changed to 5 instead of 6\n",
        "print(dice_images[dice_num])"
      ],
      "metadata": {
        "colab": {
          "base_uri": "https://localhost:8080/"
        },
        "id": "32-bdp2xj7th",
        "outputId": "277b11d3-9981-4342-a26b-b1bf5bd1a198"
      },
      "execution_count": null,
      "outputs": [
        {
          "output_type": "stream",
          "name": "stdout",
          "text": [
            "6\n"
          ]
        }
      ]
    },
    {
      "cell_type": "code",
      "source": [
        "# FOR CHECKING WHERE THE ERROR OCCURS WE CAN USE PYTHON TUTOR IT MOVES THE CODE LINE BY LINE"
      ],
      "metadata": {
        "id": "hW-7SLXWvtNn"
      },
      "execution_count": null,
      "outputs": []
    },
    {
      "cell_type": "code",
      "source": [
        "def mutate(a_list):\n",
        "  b_list=[]\n",
        "  for new in a_list:\n",
        "    item=new*2\n",
        "    b_list.append(item)\n",
        "  print(b_list)\n",
        "mutate([1,2,3,4,5,6])"
      ],
      "metadata": {
        "colab": {
          "base_uri": "https://localhost:8080/"
        },
        "id": "WhPDAxrWLhft",
        "outputId": "10517108-0ea4-4e67-c1b5-b92cf536b30e"
      },
      "execution_count": null,
      "outputs": [
        {
          "output_type": "stream",
          "name": "stdout",
          "text": [
            "[2, 4, 6, 8, 10, 12]\n"
          ]
        }
      ]
    },
    {
      "cell_type": "code",
      "source": [
        "##TYPE ERROR-A WRONG DATATYPE"
      ],
      "metadata": {
        "id": "TNR6l1EHPUGs"
      },
      "execution_count": null,
      "outputs": []
    },
    {
      "cell_type": "code",
      "source": [
        "#IDE-INTEGRATED DEVELOPMENT ENVIRONMRNT\n",
        "\n",
        "#An IDE, or Integrated Development Environment, enables programmers to consolidate the different aspects of writing a computer program.\n",
        "#Syntax Highlighting:\n",
        "# An IDE that knows the syntax of your language can provide visual cues.\n",
        "#  Keywords, words that have special meaning like class in Java, are highlighted with different colors.\n",
        "\n",
        "# Autocomplete:\n",
        "# When the IDE knows your programming language, it can anticipate what you’re going to type next!\n",
        "\n",
        "# Building Executables:\n",
        "# Java is a compiled language. Before programs run, the source code of a .java file must be transformed into an executable .class by the compiler.\n",
        "#  Once compiled, the program can be run from the terminal.\n",
        "\n",
        "# Debugging:\n",
        "# When a program does not run correctly, IDEs provide debugging tools that allow programmers to\n",
        "# examine different variables and inspect their code in a deliberate way.\n",
        "# IDEs also provide hints while coding to prevent errors before compilation."
      ],
      "metadata": {
        "id": "n7Y-prd_fj6e"
      },
      "execution_count": null,
      "outputs": []
    },
    {
      "cell_type": "code",
      "source": [
        "# OOP-Object Oriented Programming\n",
        "#Class is called as the blueprint and Object are created from the class\n",
        "# Syntax of class- Hotel()\n",
        "# syntax of obj and class- waiter=Hotel() or car=CarBlueprint()\n",
        "# waiter,car is the object and Hotel, CarBlueprint is the class\n",
        "\n",
        "# object has 2 features- attributes and methods\n",
        "\n",
        "# example:\n",
        "# waiter(object):\n",
        "# attributes - is_holding_plate=true and table_responsibe=[4,5,6]\n",
        "# methods - def take_order(table,order) and def take_payment(payment)\n",
        "\n",
        "#Syntax of object with attribute - car.speed (car is the object and speed is the attribute)\n",
        "#Syntax of object with method - car.stop()"
      ],
      "metadata": {
        "id": "XGig42WdciQS"
      },
      "execution_count": null,
      "outputs": []
    },
    {
      "cell_type": "code",
      "source": [
        "class User: # creating a class\n",
        "  pass #if u don't want to enter any values inside your class or your function and it should not get any indentation error\n",
        "\n",
        "user_1=User() #creating an object\n",
        "user_1.id=\"001\" #creating an attribute for the object\n",
        "user_1.name=\"srenidhe\"\n",
        "print(user_1.name)\n",
        "\n",
        "user_2=User() #creating an object\n",
        "user_2.id=\"002\" #creating an attribute for the object\n",
        "user_2.name=\"vig\"\n",
        "print(user_2.name)\n"
      ],
      "metadata": {
        "colab": {
          "base_uri": "https://localhost:8080/"
        },
        "id": "J25xggh6wPFZ",
        "outputId": "ad213d40-e8ba-4bbc-ef0c-c72ee6be5b69"
      },
      "execution_count": null,
      "outputs": [
        {
          "output_type": "stream",
          "name": "stdout",
          "text": [
            "srenidhe\n",
            "vig\n"
          ]
        }
      ]
    },
    {
      "cell_type": "code",
      "source": [
        "#PREVIOUS CODE IS SAME AS THE CURRENT CELL CODE\n",
        "class Employee:\n",
        "\n",
        "  def __init__(self,id_emp,emp_name): #CONSTRUCTOR or INITIALIZER\n",
        "    self.id=id_emp\n",
        "    self.name=emp_name\n",
        "\n",
        "emp_1=Employee(\"001\",\"srenidhe\")\n",
        "print(emp_1.id)\n",
        "emp_2=Employee(\"002\",\"vigu\")\n",
        "print(emp_2.id)\n",
        "\n",
        "\n"
      ],
      "metadata": {
        "colab": {
          "base_uri": "https://localhost:8080/"
        },
        "id": "w7jF5WJz0kpP",
        "outputId": "fbe61716-9531-4737-fd87-212e3322eba7"
      },
      "execution_count": null,
      "outputs": [
        {
          "output_type": "stream",
          "name": "stdout",
          "text": [
            "001\n",
            "002\n"
          ]
        }
      ]
    },
    {
      "cell_type": "code",
      "source": [
        "class User:\n",
        "  def __init__(self,id_user,username):\n",
        "    self.id=id_user\n",
        "    self.name=username\n",
        "    self.followers=0 #we can initialise default parameter 0 while creating a object\n",
        "    self.following=0\n",
        "  def follow(self,user):\n",
        "    user.followers=+1\n",
        "    self.following=+1\n",
        "\n",
        "user_1=User(\"12\",\"pee\")\n",
        "user_2=User(\"13\",\"saani\")\n",
        "\n",
        "\n",
        "user_1.follow(user_2)\n",
        "\n",
        "print(user_1.followers)\n",
        "print(user_1.following)\n",
        "print(user_2.followers)\n",
        "print(user_2.following)\n"
      ],
      "metadata": {
        "colab": {
          "base_uri": "https://localhost:8080/"
        },
        "id": "hvTlMK3Ak4Px",
        "outputId": "d85b3a7e-b96c-4bc1-96ef-596cd50d6089"
      },
      "execution_count": null,
      "outputs": [
        {
          "output_type": "stream",
          "name": "stdout",
          "text": [
            "0\n",
            "1\n",
            "1\n",
            "0\n"
          ]
        }
      ]
    },
    {
      "cell_type": "code",
      "source": [
        "#TWO TYPES OF SYNTAX TO IMPORT A MODULE\n",
        "#1-importing module\n",
        "# import turtle\n",
        "# tim=turtle.Turtle()\n",
        "\n",
        "#2-importing module\n",
        "# from turtle import Turtle\n",
        "# tim=Turtle()\n",
        "\n",
        "#3-Aliase name\n",
        "# import turtle as t\n",
        "# tin=t.turtle()\n",
        "# when u have a module that has long name instead of turtle we can change that module name into our convinence like t\n",
        "# basically changing the name of the module to our convinence\n",
        "\n",
        "#4\n",
        "# for importing a python default module we have to click the module after importing it so it provides us with the option of import the modul\n",
        "# turtle module is a standard library that is there in the python but python contains lot of library so we have to import it using the previous step mentioned\n",
        "\n",
        "#5-importing all the class in a module\n",
        "# from turtle import *\n",
        "# it will import all the classes that is available in the turtle module"
      ],
      "metadata": {
        "id": "m3VADjz0w-_E"
      },
      "execution_count": null,
      "outputs": []
    },
    {
      "cell_type": "code",
      "source": [
        "!pip3 install ColabTurtle"
      ],
      "metadata": {
        "colab": {
          "base_uri": "https://localhost:8080/"
        },
        "id": "trLm4ril5Qp_",
        "outputId": "1d20a918-520e-43a4-d8cd-d7ac3e8552e9"
      },
      "execution_count": null,
      "outputs": [
        {
          "output_type": "stream",
          "name": "stdout",
          "text": [
            "Collecting ColabTurtle\n",
            "  Downloading ColabTurtle-2.1.0.tar.gz (6.8 kB)\n",
            "  Preparing metadata (setup.py) ... \u001b[?25l\u001b[?25hdone\n",
            "Building wheels for collected packages: ColabTurtle\n",
            "  Building wheel for ColabTurtle (setup.py) ... \u001b[?25l\u001b[?25hdone\n",
            "  Created wheel for ColabTurtle: filename=ColabTurtle-2.1.0-py3-none-any.whl size=7642 sha256=d13b8cd0563be857724da4e194875bf9da621c3777f411849a0ef6401bb2a6f6\n",
            "  Stored in directory: /root/.cache/pip/wheels/5b/86/e8/54f5c8c853606e3a3060bb2e60363cbed632374a12e0f33ffc\n",
            "Successfully built ColabTurtle\n",
            "Installing collected packages: ColabTurtle\n",
            "Successfully installed ColabTurtle-2.1.0\n"
          ]
        }
      ]
    },
    {
      "cell_type": "code",
      "source": [
        "from ColabTurtle.Turtle import *\n",
        "initializeTurtle()"
      ],
      "metadata": {
        "colab": {
          "base_uri": "https://localhost:8080/",
          "height": 521
        },
        "id": "fw56QfZz5hkb",
        "outputId": "6d13ac34-0ba1-4016-a04c-e294cc43e202"
      },
      "execution_count": null,
      "outputs": [
        {
          "output_type": "display_data",
          "data": {
            "text/plain": [
              "<IPython.core.display.HTML object>"
            ],
            "text/html": [
              "\n",
              "      <svg width=\"800\" height=\"500\">\n",
              "        <rect width=\"100%\" height=\"100%\" fill=\"black\"/>\n",
              "        \n",
              "        <g visibility=visible transform=\"rotate(360,400,250) translate(382, 232)\">\n",
              "<path style=\" stroke:none;fill-rule:evenodd;fill:white;fill-opacity:1;\" d=\"M 18.214844 0.632812 C 16.109375 1.800781 15.011719 4.074219 15.074219 7.132812 L 15.085938 7.652344 L 14.785156 7.496094 C 13.476562 6.824219 11.957031 6.671875 10.40625 7.066406 C 8.46875 7.550781 6.515625 9.15625 4.394531 11.992188 C 3.0625 13.777344 2.679688 14.636719 3.042969 15.027344 L 3.15625 15.152344 L 3.519531 15.152344 C 4.238281 15.152344 4.828125 14.886719 8.1875 13.039062 C 9.386719 12.378906 10.371094 11.839844 10.378906 11.839844 C 10.386719 11.839844 10.355469 11.929688 10.304688 12.035156 C 9.832031 13.09375 9.257812 14.820312 8.96875 16.078125 C 7.914062 20.652344 8.617188 24.53125 11.070312 27.660156 C 11.351562 28.015625 11.363281 27.914062 10.972656 28.382812 C 8.925781 30.84375 7.945312 33.28125 8.238281 35.1875 C 8.289062 35.527344 8.28125 35.523438 8.917969 35.523438 C 10.941406 35.523438 13.074219 34.207031 15.136719 31.6875 C 15.359375 31.417969 15.328125 31.425781 15.5625 31.574219 C 16.292969 32.042969 18.023438 32.964844 18.175781 32.964844 C 18.335938 32.964844 19.941406 32.210938 20.828125 31.71875 C 20.996094 31.625 21.136719 31.554688 21.136719 31.558594 C 21.203125 31.664062 21.898438 32.414062 22.222656 32.730469 C 23.835938 34.300781 25.5625 35.132812 27.582031 35.300781 C 27.90625 35.328125 27.9375 35.308594 28.007812 34.984375 C 28.382812 33.242188 27.625 30.925781 25.863281 28.425781 L 25.542969 27.96875 L 25.699219 27.785156 C 28.945312 23.960938 29.132812 18.699219 26.257812 11.96875 L 26.207031 11.84375 L 27.945312 12.703125 C 31.53125 14.476562 32.316406 14.800781 33.03125 14.800781 C 33.976562 14.800781 33.78125 13.9375 32.472656 12.292969 C 28.519531 7.355469 25.394531 5.925781 21.921875 7.472656 L 21.558594 7.636719 L 21.578125 7.542969 C 21.699219 6.992188 21.761719 5.742188 21.699219 5.164062 C 21.496094 3.296875 20.664062 1.964844 19.003906 0.855469 C 18.480469 0.503906 18.457031 0.5 18.214844 0.632812\"/>\n",
              "</g>\n",
              "      </svg>\n",
              "    "
            ]
          },
          "metadata": {}
        }
      ]
    },
    {
      "cell_type": "code",
      "source": [
        "import ColabTurtle.Turtle as lia\n",
        "# lia.initializeTurtle(initial_speed=5)\n",
        "lia.color('blue')\n",
        "lia.forward(100)\n",
        "lia.right(45)\n",
        "lia.color('red')\n",
        "lia.forward(50)"
      ],
      "metadata": {
        "colab": {
          "base_uri": "https://localhost:8080/",
          "height": 521
        },
        "id": "MJ2waqR08kt-",
        "outputId": "2fa8a1a0-edb1-4f5b-cdb7-826797a2e9d6"
      },
      "execution_count": null,
      "outputs": [
        {
          "output_type": "display_data",
          "data": {
            "text/plain": [
              "<IPython.core.display.HTML object>"
            ],
            "text/html": [
              "\n",
              "      <svg width=\"800\" height=\"500\">\n",
              "        <rect width=\"100%\" height=\"100%\" fill=\"black\"/>\n",
              "        <line x1=\"400\" y1=\"250\" x2=\"400.0\" y2=\"150.0\" stroke-linecap=\"round\" style=\"stroke:blue;stroke-width:4\"/><line x1=\"400.0\" y1=\"150.0\" x2=\"435.355\" y2=\"114.645\" stroke-linecap=\"round\" style=\"stroke:red;stroke-width:4\"/><line x1=\"435.355\" y1=\"114.645\" x2=\"506.066\" y2=\"43.934\" stroke-linecap=\"round\" style=\"stroke:blue;stroke-width:4\"/><line x1=\"506.066\" y1=\"43.934\" x2=\"556.066\" y2=\"43.934\" stroke-linecap=\"round\" style=\"stroke:red;stroke-width:4\"/>\n",
              "        <g visibility=visible transform=\"rotate(90,556.066,43.934) translate(538.066, 25.933999999999997)\">\n",
              "<path style=\" stroke:none;fill-rule:evenodd;fill:red;fill-opacity:1;\" d=\"M 18.214844 0.632812 C 16.109375 1.800781 15.011719 4.074219 15.074219 7.132812 L 15.085938 7.652344 L 14.785156 7.496094 C 13.476562 6.824219 11.957031 6.671875 10.40625 7.066406 C 8.46875 7.550781 6.515625 9.15625 4.394531 11.992188 C 3.0625 13.777344 2.679688 14.636719 3.042969 15.027344 L 3.15625 15.152344 L 3.519531 15.152344 C 4.238281 15.152344 4.828125 14.886719 8.1875 13.039062 C 9.386719 12.378906 10.371094 11.839844 10.378906 11.839844 C 10.386719 11.839844 10.355469 11.929688 10.304688 12.035156 C 9.832031 13.09375 9.257812 14.820312 8.96875 16.078125 C 7.914062 20.652344 8.617188 24.53125 11.070312 27.660156 C 11.351562 28.015625 11.363281 27.914062 10.972656 28.382812 C 8.925781 30.84375 7.945312 33.28125 8.238281 35.1875 C 8.289062 35.527344 8.28125 35.523438 8.917969 35.523438 C 10.941406 35.523438 13.074219 34.207031 15.136719 31.6875 C 15.359375 31.417969 15.328125 31.425781 15.5625 31.574219 C 16.292969 32.042969 18.023438 32.964844 18.175781 32.964844 C 18.335938 32.964844 19.941406 32.210938 20.828125 31.71875 C 20.996094 31.625 21.136719 31.554688 21.136719 31.558594 C 21.203125 31.664062 21.898438 32.414062 22.222656 32.730469 C 23.835938 34.300781 25.5625 35.132812 27.582031 35.300781 C 27.90625 35.328125 27.9375 35.308594 28.007812 34.984375 C 28.382812 33.242188 27.625 30.925781 25.863281 28.425781 L 25.542969 27.96875 L 25.699219 27.785156 C 28.945312 23.960938 29.132812 18.699219 26.257812 11.96875 L 26.207031 11.84375 L 27.945312 12.703125 C 31.53125 14.476562 32.316406 14.800781 33.03125 14.800781 C 33.976562 14.800781 33.78125 13.9375 32.472656 12.292969 C 28.519531 7.355469 25.394531 5.925781 21.921875 7.472656 L 21.558594 7.636719 L 21.578125 7.542969 C 21.699219 6.992188 21.761719 5.742188 21.699219 5.164062 C 21.496094 3.296875 20.664062 1.964844 19.003906 0.855469 C 18.480469 0.503906 18.457031 0.5 18.214844 0.632812\"/>\n",
              "</g>\n",
              "      </svg>\n",
              "    "
            ]
          },
          "metadata": {}
        }
      ]
    },
    {
      "cell_type": "code",
      "source": [
        "file=open(\"sree.txt\")\n"
      ],
      "metadata": {
        "colab": {
          "base_uri": "https://localhost:8080/",
          "height": 175
        },
        "id": "tsUcm0rmtLgl",
        "outputId": "67f76ca1-532b-4b8e-89d9-bafb73bed727"
      },
      "execution_count": null,
      "outputs": [
        {
          "output_type": "error",
          "ename": "FileNotFoundError",
          "evalue": "ignored",
          "traceback": [
            "\u001b[0;31m---------------------------------------------------------------------------\u001b[0m",
            "\u001b[0;31mFileNotFoundError\u001b[0m                         Traceback (most recent call last)",
            "\u001b[0;32m<ipython-input-2-e00d915ad336>\u001b[0m in \u001b[0;36m<cell line: 1>\u001b[0;34m()\u001b[0m\n\u001b[0;32m----> 1\u001b[0;31m \u001b[0mfile\u001b[0m\u001b[0;34m=\u001b[0m\u001b[0mopen\u001b[0m\u001b[0;34m(\u001b[0m\u001b[0;34m\"sree.txt\"\u001b[0m\u001b[0;34m)\u001b[0m\u001b[0;34m\u001b[0m\u001b[0;34m\u001b[0m\u001b[0m\n\u001b[0m",
            "\u001b[0;31mFileNotFoundError\u001b[0m: [Errno 2] No such file or directory: 'sree.txt'"
          ]
        }
      ]
    },
    {
      "cell_type": "markdown",
      "source": [
        "# New Section"
      ],
      "metadata": {
        "id": "T-vPs0JawdPz"
      }
    },
    {
      "cell_type": "code",
      "source": [
        "# pascal case - CarOperations where all the starting words are capital\n",
        "# camel case - carOperations where starting word in not capitialised but all the remaining words are capitalised\n",
        "# snake case - car_operations where under scode is used"
      ],
      "metadata": {
        "id": "c9wdgpKGMHWW"
      },
      "execution_count": null,
      "outputs": []
    },
    {
      "cell_type": "code",
      "source": [
        "question_data=[\n",
        "    {\"que1\":\"a slugs blood is green\",\"ans1\":\"true\"},\n",
        "    {\"que2\":\"the loudest animal is the african elephant\",\"ans2\":\"false\"},\n",
        "    {\"que3\":\"you can lead a cow down stairs but not upstairs\",\"ans3\":\"false\"}\n",
        "\n",
        "]"
      ],
      "metadata": {
        "id": "a6aJpDQBme_E"
      },
      "execution_count": null,
      "outputs": []
    },
    {
      "cell_type": "code",
      "source": [],
      "metadata": {
        "id": "CyxzxNHiMA6H"
      },
      "execution_count": null,
      "outputs": []
    }
  ]
}